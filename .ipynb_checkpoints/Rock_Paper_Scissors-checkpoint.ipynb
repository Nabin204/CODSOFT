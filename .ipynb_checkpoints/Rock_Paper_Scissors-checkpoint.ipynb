{
 "cells": [
  {
   "cell_type": "code",
   "execution_count": 42,
   "id": "08923e90-d8b3-4dc6-a6c3-3a16125b463b",
   "metadata": {},
   "outputs": [
    {
     "name": "stdout",
     "output_type": "stream",
     "text": [
      "1)0 for rock \n",
      "2)1 for paper \n",
      "3)2 for scissors\n"
     ]
    },
    {
     "name": "stdin",
     "output_type": "stream",
     "text": [
      "Enter user choice: 0\n"
     ]
    },
    {
     "name": "stdout",
     "output_type": "stream",
     "text": [
      "Computer choice: Rock\n",
      "User choice: Rock\n",
      "Game draw\n"
     ]
    },
    {
     "name": "stdin",
     "output_type": "stream",
     "text": [
      "Do you want to play again y/n? w\n",
      "Enter user choice: 2\n"
     ]
    },
    {
     "name": "stdout",
     "output_type": "stream",
     "text": [
      "Computer choice: Rock\n",
      "User choice: Scissors\n",
      "You lose\n"
     ]
    },
    {
     "name": "stdin",
     "output_type": "stream",
     "text": [
      "Do you want to play again y/n? y\n",
      "Enter user choice: 2\n"
     ]
    },
    {
     "name": "stdout",
     "output_type": "stream",
     "text": [
      "Computer choice: Scissors\n",
      "User choice: Scissors\n",
      "Game draw\n"
     ]
    },
    {
     "name": "stdin",
     "output_type": "stream",
     "text": [
      "Do you want to play again y/n? n\n"
     ]
    },
    {
     "name": "stdout",
     "output_type": "stream",
     "text": [
      "Total user win =  0\n",
      "Total computer win =  1\n"
     ]
    }
   ],
   "source": [
    "#Rock Paper Scissors Game\n",
    "\n",
    "import random\n",
    "\n",
    "\n",
    "choices=[0,1,2]  \n",
    "meaning=[\"Rock\",\"Paper\",\"Scissors\"]\n",
    "print(\"1)0 for rock \\n2)1 for paper \\n3)2 for scissors\")          # 0 for rock , 1 for paper , 2 for scissors\n",
    "\n",
    "def load():\n",
    "    computer_choice = random.choice(choices)\n",
    "    \n",
    "    user_choice = int(input(\"Enter user choice:\")) \n",
    "    return [user_choice,computer_choice]\n",
    "\n",
    "def show(user_choice,computer_choice):\n",
    "    print(\"Computer choice:\",meaning[computer_choice])\n",
    "\n",
    "    if(user_choice >= 0 and user_choice <= 2):\n",
    "        print(\"User choice:\",meaning[user_choice])      \n",
    "    \n",
    "def play(user_choice,computer_choice):\n",
    "\n",
    "    user_win = 0\n",
    "    computer_win = 0\n",
    "    \n",
    "    if(user_choice < 0 or user_choice >2):\n",
    "        win=\"Invalid input by user.Please try again!\"\n",
    "         \n",
    "    elif(computer_choice == user_choice):\n",
    "        win=\"Game draw\"\n",
    "         \n",
    "    elif(user_choice==0 and computer_choice==2):\n",
    "        win=\"You win\"\n",
    "        user_win = 1\n",
    "         \n",
    "    elif(computer_choice > user_choice):\n",
    "        win=\"You lose\"\n",
    "        computer_win = 1\n",
    "         \n",
    "    elif(user_choice == 2 and computer_choice==0):\n",
    "        win=\"You lose\"\n",
    "        computer_win = 1\n",
    "         \n",
    "    elif(user_choice > computer_choice ):\n",
    "        win=\"You win\"\n",
    "        user_win = 1\n",
    "         \n",
    "    p=[win,user_win,computer_win]\n",
    "    \n",
    "    return p\n",
    "\n",
    "total_user_win=0\n",
    "total_computer_win=0\n",
    "\n",
    "while (True):\n",
    "    l=load()  \n",
    "    \n",
    "    result=play(l[0],l[1])\n",
    "    \n",
    "    show(l[0],l[1])\n",
    "\n",
    "    print(result[0])\n",
    "    \n",
    "    if(result[1]==1):\n",
    "        total_user_win += 1\n",
    "        \n",
    "    if(result[2]==1): \n",
    "        total_computer_win += 1\n",
    "        \n",
    "    again=input(\"Do you want to play again y/n?\")           # 'n' for no and all other character for yes\n",
    "    \n",
    "    if(again == 'n'):\n",
    "        print(\"Total user win = \", total_user_win)\n",
    "        print(\"Total computer win = \", total_computer_win)\n",
    "        break\n",
    "        \n",
    "\n",
    "\n",
    "\n"
   ]
  },
  {
   "cell_type": "code",
   "execution_count": null,
   "id": "8fb87893-d489-451d-ae70-519bf9a56104",
   "metadata": {},
   "outputs": [],
   "source": []
  }
 ],
 "metadata": {
  "kernelspec": {
   "display_name": "Python 3 (ipykernel)",
   "language": "python",
   "name": "python3"
  },
  "language_info": {
   "codemirror_mode": {
    "name": "ipython",
    "version": 3
   },
   "file_extension": ".py",
   "mimetype": "text/x-python",
   "name": "python",
   "nbconvert_exporter": "python",
   "pygments_lexer": "ipython3",
   "version": "3.12.3"
  }
 },
 "nbformat": 4,
 "nbformat_minor": 5
}
