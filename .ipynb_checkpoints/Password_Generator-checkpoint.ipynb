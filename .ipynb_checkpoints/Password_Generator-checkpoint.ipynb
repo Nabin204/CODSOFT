{
 "cells": [
  {
   "cell_type": "code",
   "execution_count": 23,
   "id": "38ec284e-c289-4c12-aa81-c700e0c341c3",
   "metadata": {},
   "outputs": [
    {
     "name": "stdin",
     "output_type": "stream",
     "text": [
      "Enter the number of alphabets in your password: 6\n",
      "Enter the number of digits in your password: 5\n",
      "Entr the number of special characters in your passowrd: 4\n"
     ]
    },
    {
     "name": "stdout",
     "output_type": "stream",
     "text": [
      "Required password= 05E&7vg9B3zH[\"@\n"
     ]
    }
   ],
   "source": [
    "import random\n",
    "\n",
    "Lower_Case=[chr(i) for i in range(97,123)]\n",
    "Upper_Case=[chr(i) for i in range(65,91)]\n",
    "alphabet=Lower_Case+Upper_Case\n",
    "\n",
    "digits=[str(i) for i in range(0,10)]\n",
    "\n",
    "Special_Characters=[chr(i) for i in range(32,48)]+[chr(i) for i in range(58,65)]+[chr(i) for i in range(91,97)]+[chr(i) for i in range(123,127)]\n",
    "\n",
    "n_alphabet=int(input(\"Enter the number of alphabets in your password:\"))\n",
    "n_digits=int(input(\"Enter the number of digits in your password:\"))\n",
    "n_SpecialCharacter=int(input(\"Entr the number of special characters in your passowrd:\"))\n",
    "\n",
    "alphabet_list=[]\n",
    "digit_list=[]\n",
    "SC_list=[]\n",
    "\n",
    "for i in range(0,n_alphabet):\n",
    "    alphabet_list += random.choice(alphabet)\n",
    "    \n",
    "for i in range(0,n_digits):\n",
    "    digit_list += random.choice(digits)\n",
    "\n",
    "for i in range(0,n_SpecialCharacter):\n",
    "    SC_list += random.choice(Special_Characters)\n",
    "\n",
    "psw_list=alphabet_list+digit_list+SC_list\n",
    "random.shuffle(psw_list)\n",
    "\n",
    "password=\"\"\n",
    "\n",
    "for i in psw_list:\n",
    "    password += i\n",
    "print(\"Required password=\",password)\n"
   ]
  },
  {
   "cell_type": "code",
   "execution_count": null,
   "id": "77ccf68b-23c9-4f0c-9f29-f2f372eff4d4",
   "metadata": {},
   "outputs": [],
   "source": []
  }
 ],
 "metadata": {
  "kernelspec": {
   "display_name": "Python 3 (ipykernel)",
   "language": "python",
   "name": "python3"
  },
  "language_info": {
   "codemirror_mode": {
    "name": "ipython",
    "version": 3
   },
   "file_extension": ".py",
   "mimetype": "text/x-python",
   "name": "python",
   "nbconvert_exporter": "python",
   "pygments_lexer": "ipython3",
   "version": "3.12.3"
  }
 },
 "nbformat": 4,
 "nbformat_minor": 5
}
