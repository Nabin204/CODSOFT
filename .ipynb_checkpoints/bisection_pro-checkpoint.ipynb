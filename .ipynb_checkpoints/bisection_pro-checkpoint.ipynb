{
 "cells": [
  {
   "cell_type": "code",
   "execution_count": 7,
   "id": "734b085e-a6f0-4bdc-a445-ee2d45c8df0a",
   "metadata": {},
   "outputs": [
    {
     "name": "stdin",
     "output_type": "stream",
     "text": [
      "Enter the degree of polynomial equation 2\n",
      "Enter the maximum possible error: 0.0001\n"
     ]
    },
    {
     "name": "stdout",
     "output_type": "stream",
     "text": [
      "Enter the coefficient in order:\n"
     ]
    },
    {
     "name": "stdin",
     "output_type": "stream",
     "text": [
      " 1\n",
      " 8\n",
      " 4\n",
      "Enter two initial guesses: -1 0\n"
     ]
    },
    {
     "name": "stdout",
     "output_type": "stream",
     "text": [
      "S.No\t\tx1\t\tx2\t\tx0\t\tf(x1)\t\tf(x2)\t\tf(x0)\n",
      "1\t\t-1.0\t\t0.0\t\t-0.5\t\t-3.0\t\t4.0\t\t0.25\n",
      "2\t\t-1.0\t\t-0.5\t\t-0.75\t\t-3.0\t\t0.25\t\t-1.4375\n",
      "3\t\t-0.75\t\t-0.5\t\t-0.625\t\t-1.4375\t\t0.25\t\t-0.6094\n",
      "4\t\t-0.625\t\t-0.5\t\t-0.5625\t\t-0.6094\t\t0.25\t\t-0.1836\n",
      "5\t\t-0.5625\t\t-0.5\t\t-0.5312\t\t-0.1836\t\t0.25\t\t0.0326\n",
      "6\t\t-0.5625\t\t-0.5312\t\t-0.5469\t\t-0.1836\t\t0.0326\t\t-0.0761\n",
      "7\t\t-0.5469\t\t-0.5312\t\t-0.5391\t\t-0.0761\t\t0.0326\t\t-0.0222\n",
      "8\t\t-0.5391\t\t-0.5312\t\t-0.5352\t\t-0.0222\t\t0.0326\t\t0.0048\n",
      "9\t\t-0.5391\t\t-0.5352\t\t-0.5372\t\t-0.0222\t\t0.0048\t\t-0.009\n",
      "10\t\t-0.5372\t\t-0.5352\t\t-0.5362\t\t-0.009\t\t0.0048\t\t-0.0021\n",
      "11\t\t-0.5362\t\t-0.5352\t\t-0.5357\t\t-0.0021\t\t0.0048\t\t0.0014\n",
      "12\t\t-0.5362\t\t-0.5357\t\t-0.5359\t\t-0.0021\t\t0.0014\t\t-0.0\n",
      "13\t\t-0.5359\t\t-0.5357\t\t-0.5358\t\t-0.0\t\t0.0014\t\t0.0007\n",
      "14\t\t-0.5359\t\t-0.5358\t\t-0.5359\t\t-0.0\t\t0.0007\t\t-0.0\n",
      "The solution is x= -0.5359\n"
     ]
    }
   ],
   "source": [
    "import math\n",
    "n=int(input(\"Enter the degree of polynomial equation\"))\n",
    "s=[]\n",
    "E=float(input(\"Enter the maximum possible error:\"))\n",
    "print(\"Enter the coefficient in order:\")\n",
    "for i in range(n+1):\n",
    "    s.append(input())\n",
    "a,b=input(\"Enter two initial guesses:\").split()\n",
    "a=float(a)\n",
    "b=float(b)\n",
    "c=(a+b)/2\n",
    "def f(x):\n",
    "    sum=0\n",
    "    for i in range(n+1):\n",
    "        sum=sum+float(s[i])*x**(n-i)\n",
    "    return sum\n",
    "p=math.ceil((math.log10(b-a)-math.log10(E))/math.log10(2))\n",
    "r=math.log10(1/E)\n",
    "r=int(r)\n",
    "print(\"S.No\",\"x1\",\"x2\",\"x0\",\"f(x1)\",\"f(x2)\",\"f(x0)\",sep=\"\\t\\t\")\n",
    "for i in range(p):\n",
    "    i=i+1\n",
    "    c=(a+b)/2\n",
    "    a=round(a,r)\n",
    "    b=round(b,r)\n",
    "    c=round(c,r)\n",
    "    d=round(f(a),r)\n",
    "    e=round(f(b),r)\n",
    "    g=round(f(c),r)\n",
    "    print(i,a ,b ,c ,d ,e ,g ,sep=\"\\t\\t\")\n",
    "    if(f(a)*f(c)<0):\n",
    "        b=c\n",
    "    else:\n",
    "        a=c\n",
    "print(\"The solution is x=\",c)"
   ]
  },
  {
   "cell_type": "code",
   "execution_count": null,
   "id": "a2fc0139-2f5f-40d8-8790-a69b877a9656",
   "metadata": {},
   "outputs": [],
   "source": []
  }
 ],
 "metadata": {
  "kernelspec": {
   "display_name": "Python 3 (ipykernel)",
   "language": "python",
   "name": "python3"
  },
  "language_info": {
   "codemirror_mode": {
    "name": "ipython",
    "version": 3
   },
   "file_extension": ".py",
   "mimetype": "text/x-python",
   "name": "python",
   "nbconvert_exporter": "python",
   "pygments_lexer": "ipython3",
   "version": "3.12.3"
  }
 },
 "nbformat": 4,
 "nbformat_minor": 5
}
